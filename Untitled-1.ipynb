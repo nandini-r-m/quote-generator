{
 "cells": [
  {
   "cell_type": "code",
   "execution_count": 5,
   "metadata": {},
   "outputs": [
    {
     "name": "stdout",
     "output_type": "stream",
     "text": [
      "                                                 Quote         Character   \n",
      "0    People’s lives don’t end when they die, it end...     Itachi Uchiha  \\\n",
      "1    If you don’t take risks, you can’t create a fu...    Monkey D Luffy   \n",
      "2     If you don’t like your destiny, don’t accept it.    Naruto Uzumaki   \n",
      "3         When you give up, that’s when the game ends.  Mitsuyoshi Anzai   \n",
      "4    All we can do is live until the day we die. Co...      Deneil Young   \n",
      "..                                                 ...               ...   \n",
      "116      Life s a bore if you don t challenge yourself     Yuu Nishinoya   \n",
      "117  There are some flowers you only see when you t...      Tanaka Saeko   \n",
      "118        Being weak means that there is room to grow    Ittetsu Takeda   \n",
      "119  Today might be the chance to grasp the chance ...      Tooru Oikawa   \n",
      "120      If you re gonna hit it hit it until it breaks      Tooru Oikawa   \n",
      "\n",
      "                               Anime  \n",
      "0                             Naruto  \n",
      "1                          One Piece  \n",
      "2                             Naruto  \n",
      "3                          Slam Dunk  \n",
      "4    Uchuu Kyoudai or Space Brothers  \n",
      "..                               ...  \n",
      "116                          Haikyuu  \n",
      "117                          Haikyuu  \n",
      "118                          Haikyuu  \n",
      "119                          Haikyuu  \n",
      "120                          Haikyuu  \n",
      "\n",
      "[121 rows x 3 columns]\n"
     ]
    }
   ],
   "source": [
    "import pandas as pd\n",
    "\n",
    "# Load the CSV file into a DataFrame\n",
    "df = pd.read_csv('AnimeQuotes.csv')\n",
    "\n",
    "# Convert DataFrame to JSON with orient='records'\n",
    "json_data = df.to_json(orient='records')\n",
    "\n",
    "# Convert JSON data back to a list of dictionaries (quotes_list)\n",
    "quotes_list = pd.read_json(json_data, orient='records')\n",
    "\n",
    "# Print or use the quotes_list\n",
    "print(quotes_list)\n",
    "\n",
    "# Optionally, save JSON data to a file\n",
    "with open('AnimeQuotes.json', 'w') as f:\n",
    "    f.write(json_data)\n"
   ]
  },
  {
   "cell_type": "code",
   "execution_count": null,
   "metadata": {},
   "outputs": [],
   "source": []
  }
 ],
 "metadata": {
  "kernelspec": {
   "display_name": "Python 3",
   "language": "python",
   "name": "python3"
  },
  "language_info": {
   "codemirror_mode": {
    "name": "ipython",
    "version": 3
   },
   "file_extension": ".py",
   "mimetype": "text/x-python",
   "name": "python",
   "nbconvert_exporter": "python",
   "pygments_lexer": "ipython3",
   "version": "3.10.8"
  }
 },
 "nbformat": 4,
 "nbformat_minor": 2
}
